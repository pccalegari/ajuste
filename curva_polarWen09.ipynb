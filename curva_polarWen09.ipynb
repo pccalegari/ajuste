{
  "nbformat": 4,
  "nbformat_minor": 0,
  "metadata": {
    "colab": {
      "name": "curva_polarWen09.ipynb",
      "provenance": [],
      "toc_visible": true,
      "authorship_tag": "ABX9TyNtpqfQ37KBnAlEMEA9W72u",
      "include_colab_link": true
    },
    "kernelspec": {
      "name": "python3",
      "display_name": "Python 3"
    },
    "language_info": {
      "name": "python"
    }
  },
  "cells": [
    {
      "cell_type": "markdown",
      "metadata": {
        "id": "view-in-github",
        "colab_type": "text"
      },
      "source": [
        "<a href=\"https://colab.research.google.com/github/pccalegari/ajuste/blob/master/curva_polarWen09.ipynb\" target=\"_parent\"><img src=\"https://colab.research.google.com/assets/colab-badge.svg\" alt=\"Open In Colab\"/></a>"
      ]
    },
    {
      "cell_type": "markdown",
      "metadata": {
        "id": "uCplRBc4GlO1"
      },
      "source": [
        "# Curva de polarização"
      ]
    },
    {
      "cell_type": "markdown",
      "metadata": {
        "id": "8LDckgmyFu6K"
      },
      "source": [
        "\n",
        "\n",
        "1. Aproximação dos parâmetros da curva de polarização   \n",
        "\n",
        "    Para ajustar os dados experimentais a uma função linear, precisamos obter os parâmetros $a_0$ e $a_1$ de  $$f(x,{\\bf a}) = a_0 - a_1x.$$ \n",
        "    \n",
        "    Para o ajuste da curva de polarização por meio da função não linear é necessário obter os parâmetros ${\\bf a}$ da função,\n",
        "$$ V = 0.578 - (a_A + b_A\\ln(i)) - (a_C + b_C\\ln(i)) - (0.0036\\cdot R\\cdot i) - c\\ln\\left(\\dfrac{j_L}{j_L-i}\\right).$$\n",
        "\n",
        "Nos dois casos, os parâmetros são obtidos por meio do método dos mínimos quadrados, no qual temos como objetivo minimizar a função resíduo.\n",
        "\n",
        "\n"
      ]
    },
    {
      "cell_type": "code",
      "metadata": {
        "id": "zlmv5UJ9IHbv"
      },
      "source": [
        "import matplotlib.pyplot as plt\n",
        "import numpy as np\n",
        "from scipy import optimize\n",
        "from scipy import interpolate\n"
      ],
      "execution_count": null,
      "outputs": []
    },
    {
      "cell_type": "markdown",
      "metadata": {
        "id": "l9w9u5u-rGlA"
      },
      "source": [
        "A seguir definimos as funções $f(x,{\\bf a})$ (linear e não linear) e a função resíduo $r({\\bf a})$."
      ]
    },
    {
      "cell_type": "code",
      "metadata": {
        "id": "rzaOZleKh7r7"
      },
      "source": [
        "def fnlinear(i, aa, ba, ac, bc, r, c, jl, noise=0, n_outliers=0, random_state=0):\n",
        "    y = 0.578 - (aa + ba*np.log(i)) - (ac + bc*np.log(i)) - (0.0036*r*i) - c*np.log(jl/(jl-i))\n",
        "    return y\n",
        "\n",
        "def flinear(x, a, b):\n",
        "    y = a - b*x \n",
        "    return y\n",
        "\n",
        "def rnlinear(a, x, y):\n",
        "    return 0.578 - (a[0] + a[1]*np.log(i)) - (a[2] + a[3]*np.log(i)) - (0.0036*a[4]*i) - a[5]*np.log(a[6]/(a[6]-i)) - y\n",
        "\n",
        "def rlinear(a, x, y):\n",
        "    return a[0] - a[1]*x - y\n"
      ],
      "execution_count": null,
      "outputs": []
    },
    {
      "cell_type": "markdown",
      "metadata": {
        "id": "Jw7UBb3FHO8H"
      },
      "source": [
        "Insira os dados para o ajuste da curva de polarização.\n",
        "\n",
        "> Por exemplo: i = np.array([x_0, x_1, ... , x_n-1])\n",
        "\n"
      ]
    },
    {
      "cell_type": "code",
      "metadata": {
        "id": "ik2229vsGM9s"
      },
      "source": [
        "i=np.array([0.0001, 0.019, 0.0328, 0.0656, 0.0852, 0.118, 0.2295,0.3475, 0.4787,0.7607, 0.8852, 1.0033, 1.1082, 1.1803, 1.2852, 1.5672, 1.7115, 1.7639, 1.7967])\n",
        "n = len(i)"
      ],
      "execution_count": null,
      "outputs": []
    },
    {
      "cell_type": "markdown",
      "metadata": {
        "id": "994WA4tGGRnV"
      },
      "source": [
        "Agora insira v = [y_0, y_1, ..., y_n-1]"
      ]
    },
    {
      "cell_type": "code",
      "metadata": {
        "id": "SmnfzWifIGf-"
      },
      "source": [
        "v=np.array([0.5777, 0.543, 0.5231, 0.486, 0.4711, 0.4488, 0.424, 0.3942, 0.362, 0.3, 0.2826, 0.2802, 0.2678, 0.243, 0.2182, 0.1512, 0.1041, 0.0893, 0.0719])"
      ],
      "execution_count": null,
      "outputs": []
    },
    {
      "cell_type": "markdown",
      "metadata": {
        "id": "7Qy9R_-WNCqo"
      },
      "source": [
        "Vamos iniciar com o ajuste linear:"
      ]
    },
    {
      "cell_type": "code",
      "metadata": {
        "id": "lmdn8R84NDW8",
        "colab": {
          "base_uri": "https://localhost:8080/"
        },
        "outputId": "c5641a32-e722-4076-d7f5-46d245fc0014"
      },
      "source": [
        "i_min = i[0]\n",
        "i_max = i[n-1]\n",
        "\n",
        "x0 = np.array([0.1, 0.1])\n",
        "\n",
        "res_lin = optimize.least_squares(rlinear, x0, args=(i, v))\n",
        "    \n",
        "print(\"Parâmetros do ajuste Linear\")\n",
        "#print(res_lin)\n",
        "print(\"a = \", *res_lin.x)\n",
        "    "
      ],
      "execution_count": null,
      "outputs": [
        {
          "output_type": "stream",
          "name": "stdout",
          "text": [
            "Parâmetros do ajuste Linear\n",
            "a =  0.5085149513186064 0.23711329874120418\n"
          ]
        }
      ]
    },
    {
      "cell_type": "code",
      "metadata": {
        "colab": {
          "base_uri": "https://localhost:8080/",
          "height": 282
        },
        "id": "rH3rn6qYwC6U",
        "outputId": "344da458-c412-4193-e8e6-4c2503e441d3"
      },
      "source": [
        "i_test = np.linspace(i_min, i_max, 100)\n",
        " \n",
        "y_lin = flinear(i_test, *res_lin.x)\n",
        "  \n",
        "plt.figure(1)\n",
        "plt.plot(i, v, 'o', label='Experimento')\n",
        "plt.plot(i_test, y_lin, label='Ajuste linear')\n",
        "plt.xlabel(\"Corrente\")\n",
        "plt.ylabel(\"Voltagem\")\n",
        "plt.legend()\n",
        "plt.show()"
      ],
      "execution_count": null,
      "outputs": [
        {
          "output_type": "display_data",
          "data": {
            "text/plain": [
              "<Figure size 432x288 with 1 Axes>"
            ],
            "image/png": "[encoded data removed]"
          },
          "metadata": {
            "needs_background": "light"
          }
        }
      ]
    },
    {
      "cell_type": "markdown",
      "metadata": {
        "id": "xKYFnLVZwowk"
      },
      "source": [
        "Agora o ajuste não linear: (É necessário um bom chute inicial, ou seja uma boa escolha para x0)"
      ]
    },
    {
      "cell_type": "code",
      "metadata": {
        "colab": {
          "base_uri": "https://localhost:8080/"
        },
        "id": "2ZeMOx8_gvSG",
        "outputId": "789d84e3-c913-490b-8bae-9df52823d5cf"
      },
      "source": [
        "i_min = i[0]\n",
        "i_max = i[n-1]\n",
        "    \n",
        "x0 = np.array([0, 0, 0, 0.0, 1.0, 0., 2.0])\n",
        "\n",
        "res_lsq = optimize.least_squares(rnlinear, x0, args=(i, v))\n",
        "\n",
        "print(\"Parâmetros do ajuste Não linear\")\n",
        "print(res_lsq)\n",
        "print(\"a = \", *res_lsq.x)\n",
        "\n"
      ],
      "execution_count": null,
      "outputs": [
        {
          "output_type": "stream",
          "name": "stdout",
          "text": [
            "Parâmetros do ajuste Não linear\n",
            " active_mask: array([0., 0., 0., 0., 0., 0., 0.])\n",
            "        cost: 0.0019243125851853458\n",
            "         fun: array([ 0.01609636, -0.03400423, -0.02500707, -0.00443664,  0.00295558,\n",
            "        0.01442293,  0.00921276,  0.01165261,  0.01549275,  0.01943893,\n",
            "        0.01168023, -0.00977372, -0.01867246, -0.00863559, -0.00561094,\n",
            "       -0.00115697,  0.0064623 ,  0.00119035, -0.00130718])\n",
            "        grad: array([ 1.08211583e-09,  7.08565741e-09,  1.08211583e-09,  4.07511763e-09,\n",
            "       -2.12250238e-11,  2.29503540e-08, -9.18443961e-07])\n",
            "         jac: array([[-1.00000000e+00,  9.21034040e+00, -1.00000000e+00,\n",
            "         9.21034034e+00, -3.59912877e-07, -5.48958778e-05,\n",
            "         5.07165243e-07],\n",
            "       [-1.00000000e+00,  3.96331627e+00, -1.00000000e+00,\n",
            "         3.96331629e+00, -6.84000629e-05, -1.04849413e-02,\n",
            "         9.75802287e-05],\n",
            "       [-1.00000000e+00,  3.41732674e+00, -1.00000000e+00,\n",
            "         3.41732678e+00, -1.18079978e-04, -1.81698389e-02,\n",
            "         1.69755160e-04],\n",
            "       [-1.00000000e+00,  2.72417958e+00, -1.00000000e+00,\n",
            "         2.72417957e+00, -2.36160036e-04, -3.66759412e-02,\n",
            "         3.45849885e-04],\n",
            "       [-1.00000000e+00,  2.46275384e+00, -1.00000000e+00,\n",
            "         2.46275384e+00, -3.06719980e-04, -4.79001813e-02,\n",
            "         4.54254411e-04],\n",
            "       [-1.00000000e+00,  2.13707066e+00, -1.00000000e+00,\n",
            "         2.13707066e+00, -4.24800038e-04, -6.69700913e-02,\n",
            "         6.41245009e-04],\n",
            "       [-1.00000000e+00,  1.47185226e+00, -1.00000000e+00,\n",
            "         1.47185225e+00, -8.26200013e-04, -1.34658251e-01,\n",
            "         1.33450718e-03],\n",
            "       [-1.00000000e+00,  1.05699061e+00, -1.00000000e+00,\n",
            "         1.05699061e+00, -1.25099997e-03, -2.11662553e-01,\n",
            "         2.18240566e-03],\n",
            "       [-1.00000000e+00,  7.36681179e-01, -1.00000000e+00,\n",
            "         7.36681182e-01, -1.72331996e-03, -3.04876145e-01,\n",
            "         3.30009356e-03],\n",
            "       [-1.00000000e+00,  2.73516218e-01, -1.00000000e+00,\n",
            "         2.73516216e-01, -2.73851997e-03, -5.40582273e-01,\n",
            "         6.63807523e-03],\n",
            "       [-1.00000000e+00,  1.21941670e-01, -1.00000000e+00,\n",
            "         1.21941671e-01, -3.18672007e-03, -6.65407531e-01,\n",
            "         8.75147165e-03],\n",
            "       [-1.00000000e+00, -3.29456675e-03, -1.00000000e+00,\n",
            "        -3.29456682e-03, -3.61188002e-03, -8.00215233e-01,\n",
            "         1.13505463e-02],\n",
            "       [-1.00000000e+00, -1.02737076e-01, -1.00000000e+00,\n",
            "        -1.02737077e-01, -3.98951994e-03, -9.37394969e-01,\n",
            "         1.43807155e-02],\n",
            "       [-1.00000000e+00, -1.65768642e-01, -1.00000000e+00,\n",
            "        -1.65768644e-01, -4.24908004e-03, -1.04393373e+00,\n",
            "         1.70382092e-02],\n",
            "       [-1.00000000e+00, -2.50914347e-01, -1.00000000e+00,\n",
            "        -2.50914349e-01, -4.62672000e-03, -1.22253904e+00,\n",
            "         2.21804087e-02],\n",
            "       [-1.00000000e+00, -4.49290585e-01, -1.00000000e+00,\n",
            "        -4.49290588e-01, -5.64191997e-03, -1.96843074e+00,\n",
            "         5.70242908e-02],\n",
            "       [-1.00000000e+00, -5.37370181e-01, -1.00000000e+00,\n",
            "        -5.37370179e-01, -6.16140000e-03, -2.80574856e+00,\n",
            "         1.43864900e-01],\n",
            "       [-1.00000000e+00, -5.67527266e-01, -1.00000000e+00,\n",
            "        -5.67527263e-01, -6.35004000e-03, -3.45155876e+00,\n",
            "         2.82828819e-01],\n",
            "       [-1.00000000e+00, -5.85951653e-01, -1.00000000e+00,\n",
            "        -5.85951649e-01, -6.46811998e-03, -4.29105835e+00,\n",
            "         6.66983629e-01]])\n",
            "     message: '`ftol` termination condition is satisfied.'\n",
            "        nfev: 24\n",
            "        njev: 22\n",
            "  optimality: 9.184439613634746e-07\n",
            "      status: 2\n",
            "     success: True\n",
            "           x: array([ 6.36069240e-02, -1.16710002e+01,  6.36088015e-02,  1.16865295e+01,\n",
            "        4.61840806e+01,  1.68648127e-02,  1.82163902e+00])\n",
            "a =  0.0636069239606614 -11.671000226450674 0.06360880153393203 11.686529472193463 46.18408061937852 0.016864812670179 1.8216390183857818\n"
          ]
        }
      ]
    },
    {
      "cell_type": "code",
      "metadata": {
        "colab": {
          "base_uri": "https://localhost:8080/",
          "height": 279
        },
        "id": "0f3sneF-gEHs",
        "outputId": "5424b1e7-a17f-4ea5-b7bc-3b6cf41ac74a"
      },
      "source": [
        " i_test = np.linspace(i_min, i_max, 100)\n",
        " \n",
        " y_lsq = fnlinear(i_test, *res_lsq.x)\n",
        "  \n",
        " plt.figure(2)\n",
        " plt.plot(i, v, 'o', label='Experimento')\n",
        " plt.plot(i_test, y_lsq, label='Ajuste nao linear')\n",
        " plt.xlabel(\"Corrente\")\n",
        " plt.ylabel(\"Voltagem\")\n",
        " plt.legend()\n",
        " plt.show()"
      ],
      "execution_count": null,
      "outputs": [
        {
          "output_type": "display_data",
          "data": {
            "text/plain": [
              "<Figure size 432x288 with 1 Axes>"
            ],
            "image/png": "[encoded data removed]"
          },
          "metadata": {
            "needs_background": "light"
          }
        }
      ]
    }
  ]
}