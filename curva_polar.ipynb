{
  "nbformat": 4,
  "nbformat_minor": 0,
  "metadata": {
    "colab": {
      "name": "curva_polar.ipynb",
      "provenance": [],
      "toc_visible": true,
      "authorship_tag": "ABX9TyPBTf5uXt3nYUx/2SFt7J5H",
      "include_colab_link": true
    },
    "kernelspec": {
      "name": "python3",
      "display_name": "Python 3"
    },
    "language_info": {
      "name": "python"
    }
  },
  "cells": [
    {
      "cell_type": "markdown",
      "metadata": {
        "id": "view-in-github",
        "colab_type": "text"
      },
      "source": [
        "<a href=\"https://colab.research.google.com/github/pccalegari/ajuste/blob/master/curva_polar.ipynb\" target=\"_parent\"><img src=\"https://colab.research.google.com/assets/colab-badge.svg\" alt=\"Open In Colab\"/></a>"
      ]
    },
    {
      "cell_type": "markdown",
      "metadata": {
        "id": "uCplRBc4GlO1"
      },
      "source": [
        "# Curva de polarização"
      ]
    },
    {
      "cell_type": "markdown",
      "metadata": {
        "id": "8LDckgmyFu6K"
      },
      "source": [
        "\n",
        "\n",
        "1. Aproximação dos parâmetros da curva de polarização   \n",
        "\n",
        "    Para ajustar os dados experimentais a uma função linear, precisamos obter os parâmetros $a_0$ e $a_1$ de  $$f(x,{\\bf a}) = a_0 - a_1x.$$ \n",
        "    \n",
        "    Para o ajuste da curva de polarização por meio da função não linear é necessário obter os parâmetros ${\\bf a}$ da função,\n",
        "$$ f(x,{\\bf a})= a_0 - a_1x - a_2\\ln\\left(\\frac{x}{a_3} + 1\\right) - a_4\\exp(a_5x).$$\n",
        "\n",
        "Nos dois casos, os parâmetros são obtidos por meio do método dos mínimos quadrados, no qual temos como objetivo minimizar a função,\n",
        "\n",
        "$$  r({\\bf a}) = \\dfrac{1}{2}\\sum_{i=1}^m r_i({\\bf a})^2,$$\n",
        "\n",
        "sendo o resíduo $r_i({\\bf a}) = f(x_i,{\\bf a}) - y_i$, com $(x_i,y_i)$ dados e $m$ tamanho dos vetores $x$ e $y$. \n",
        "\n",
        "Para ajustar os parâmetros da curva de polarização, escrevemos um programa na linguagem *python* com a utilização das bibliotecas *numpy* e *scipy*. As bibliotecas podem ser importadas da seguinte forma.\n",
        "\n"
      ]
    },
    {
      "cell_type": "code",
      "metadata": {
        "id": "zlmv5UJ9IHbv"
      },
      "source": [
        "import matplotlib.pyplot as plt\n",
        "import numpy as np\n",
        "from scipy import optimize\n",
        "from scipy import interpolate\n"
      ],
      "execution_count": null,
      "outputs": []
    },
    {
      "cell_type": "markdown",
      "metadata": {
        "id": "l9w9u5u-rGlA"
      },
      "source": [
        "A seguir definimos as funções $f(x,{\\bf a})$ (linear e não linear) e a função resíduo $r({\\bf a})$."
      ]
    },
    {
      "cell_type": "code",
      "metadata": {
        "id": "rzaOZleKh7r7"
      },
      "source": [
        "def fnlinear(t, a, b, c, d, e, f=0.6795, noise=0, n_outliers=0, random_state=0):\n",
        "    y = f - a*np.log(t/b + 1.0) - c*t - d*np.exp(e*t)\n",
        "    return y\n",
        "\n",
        "def flinear(t, a, b):\n",
        "    y = a - b*t \n",
        "    return y\n",
        "\n",
        "def rnlinear(x, t, y):\n",
        "    #x[5] = 0.6795\n",
        "    return 0.6795 - x[0]*np.log(t/x[1] + 1.0) - x[2]*t - x[3]*np.exp(x[4]*t) - y\n",
        "\n",
        "def rlinear(x, t, y):\n",
        "    return x[0] - x[1]*t - y\n"
      ],
      "execution_count": null,
      "outputs": []
    },
    {
      "cell_type": "markdown",
      "metadata": {
        "id": "Jw7UBb3FHO8H"
      },
      "source": [
        "Insira os dados para o ajuste da curva de polarização.\n",
        "\n",
        "> Por exemplo: i = np.array([x_0, x_1, ... , x_n-1])\n",
        "\n"
      ]
    },
    {
      "cell_type": "code",
      "metadata": {
        "id": "ik2229vsGM9s"
      },
      "source": [
        "i=np.array([0.0, 4.75*10**(-4), 8.27*10**(-4), 1.69*10**(-3), 2.5*10**(-3), 3.01*10**(-3), 3.19*10**(-3), 3.86*10**(-3)])\n",
        "n = len(i)"
      ],
      "execution_count": null,
      "outputs": []
    },
    {
      "cell_type": "markdown",
      "metadata": {
        "id": "994WA4tGGRnV"
      },
      "source": [
        "Agora insira v = [y_0, y_1, ..., y_n-1]"
      ]
    },
    {
      "cell_type": "code",
      "metadata": {
        "id": "SmnfzWifIGf-"
      },
      "source": [
        "v=np.array([0.6795, 0.4862, 0.423, 0.33975, 0.25075, 0.2062, 0.1629, 0.07715])"
      ],
      "execution_count": null,
      "outputs": []
    },
    {
      "cell_type": "markdown",
      "metadata": {
        "id": "7Qy9R_-WNCqo"
      },
      "source": [
        "Vamos iniciar com o ajuste linear:"
      ]
    },
    {
      "cell_type": "code",
      "metadata": {
        "id": "lmdn8R84NDW8",
        "colab": {
          "base_uri": "https://localhost:8080/"
        },
        "outputId": "0b53613b-40a6-4c8b-bd78-33b5fc14ecdc"
      },
      "source": [
        "i_min = i[0]\n",
        "i_max = i[n-1]\n",
        "\n",
        "x0 = np.array([0.1, 0.1])\n",
        "\n",
        "res_lin = optimize.least_squares(rlinear, x0, args=(i, v))\n",
        "    \n",
        "print(\"Parâmetros do ajuste Linear\")\n",
        "#print(res_lin)\n",
        "print(\"a = \", *res_lin.x)\n",
        "    "
      ],
      "execution_count": null,
      "outputs": [
        {
          "output_type": "stream",
          "name": "stdout",
          "text": [
            "Parâmetros do ajuste Linear\n",
            "a =  0.5913147056158731 135.35671545634105\n"
          ]
        }
      ]
    },
    {
      "cell_type": "code",
      "metadata": {
        "colab": {
          "base_uri": "https://localhost:8080/",
          "height": 280
        },
        "id": "rH3rn6qYwC6U",
        "outputId": "688c768d-b1c0-4f80-a275-5ae830f48ba9"
      },
      "source": [
        "i_test = np.linspace(i_min, i_max, 100)\n",
        " \n",
        "y_lin = flinear(i_test, *res_lin.x)\n",
        "  \n",
        "plt.figure(1)\n",
        "plt.plot(i, v, 'o', label='Experimento')\n",
        "plt.plot(i_test, y_lin, label='Ajuste nao linear')\n",
        "plt.xlabel(\"Corrente\")\n",
        "plt.ylabel(\"Voltagem\")\n",
        "plt.legend()\n",
        "plt.show()"
      ],
      "execution_count": null,
      "outputs": [
        {
          "output_type": "display_data",
          "data": {
            "image/png": "[encoded data removed]",
            "text/plain": [
              "<Figure size 432x288 with 1 Axes>"
            ]
          },
          "metadata": {
            "needs_background": "light"
          }
        }
      ]
    },
    {
      "cell_type": "markdown",
      "metadata": {
        "id": "xKYFnLVZwowk"
      },
      "source": [
        "Agora o ajuste não linear: (É necessário um bom chute inicial, ou seja uma boa escolha para x0)"
      ]
    },
    {
      "cell_type": "code",
      "metadata": {
        "colab": {
          "base_uri": "https://localhost:8080/"
        },
        "id": "2ZeMOx8_gvSG",
        "outputId": "5bddf512-2e27-412f-ce3a-15d35385eeab"
      },
      "source": [
        "i_min = i[0]\n",
        "i_max = i[n-1]\n",
        "    \n",
        "x0 = np.array([0.0, 0.05, 100, 0.0, 500.0])\n",
        "\n",
        "res_lsq = optimize.least_squares(rnlinear, x0, args=(i, v))\n",
        "\n",
        "print(\"Parâmetros do ajuste Não linear\")\n",
        "#print(res_lsq)\n",
        "print(\"a = \", *res_lsq.x)\n",
        "\n"
      ],
      "execution_count": null,
      "outputs": [
        {
          "output_type": "stream",
          "name": "stdout",
          "text": [
            "Parâmetros do ajuste Não linear\n",
            "a =  0.06394045076677758 3.672475707239177e-05 50.556501893906564 0.0026280353397144718 968.7784277961354\n"
          ]
        },
        {
          "output_type": "stream",
          "name": "stderr",
          "text": [
            "/usr/local/lib/python3.7/dist-packages/ipykernel_launcher.py:11: RuntimeWarning: invalid value encountered in log\n",
            "  # This is added back by InteractiveShellApp.init_path()\n"
          ]
        }
      ]
    },
    {
      "cell_type": "code",
      "metadata": {
        "colab": {
          "base_uri": "https://localhost:8080/",
          "height": 280
        },
        "id": "0f3sneF-gEHs",
        "outputId": "4b4c75f2-fb53-49a1-ed9d-a98391729688"
      },
      "source": [
        " i_test = np.linspace(i_min, i_max, 100)\n",
        " \n",
        " y_lsq = fnlinear(i_test, *res_lsq.x)\n",
        "  \n",
        " plt.figure(2)\n",
        " plt.plot(i, v, 'o', label='Experimento')\n",
        " plt.plot(i_test, y_lsq, label='Ajuste nao linear')\n",
        " plt.xlabel(\"Corrente\")\n",
        " plt.ylabel(\"Voltagem\")\n",
        " plt.legend()\n",
        " plt.show()"
      ],
      "execution_count": null,
      "outputs": [
        {
          "output_type": "display_data",
          "data": {
            "image/png": "[encoded data removed]",
            "text/plain": [
              "<Figure size 432x288 with 1 Axes>"
            ]
          },
          "metadata": {
            "needs_background": "light"
          }
        }
      ]
    }
  ]
}